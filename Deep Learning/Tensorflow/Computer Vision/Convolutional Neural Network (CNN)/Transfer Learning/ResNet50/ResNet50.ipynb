{
  "nbformat": 4,
  "nbformat_minor": 0,
  "metadata": {
    "colab": {
      "provenance": [],
      "gpuType": "L4"
    },
    "kernelspec": {
      "name": "python3",
      "display_name": "Python 3"
    },
    "language_info": {
      "name": "python"
    },
    "accelerator": "GPU"
  },
  "cells": [
    {
      "cell_type": "markdown",
      "source": [
        "# Image Classification from Scratch\n",
        "\n",
        "This book contains image classification from scratch leveraging the superiority of Convolutional Neural Network (CNN).\n",
        "\n",
        "The dataset is based on ['Vegetable Image Dataset'](https://www.kaggle.com/datasets/misrakahmed/vegetable-image-dataset).\n",
        "\n",
        "Ahmed, M. Israk & Mamun, Shahriyar & Asif, Asif. (2021). DCNN-Based Vegetable Image Classification Using Transfer Learning: A Comparative Study. 235-243. 10.1109/ICCCSP52374.2021.9465499."
      ],
      "metadata": {
        "id": "LRhEbaQGUzdT"
      }
    },
    {
      "cell_type": "code",
      "source": [
        "!pip install pillow tensorflow numpy"
      ],
      "metadata": {
        "colab": {
          "base_uri": "https://localhost:8080/"
        },
        "id": "wzWO0TdzVFHY",
        "outputId": "af8ec355-adf1-429d-b2e4-e794897efd5e"
      },
      "execution_count": null,
      "outputs": [
        {
          "output_type": "stream",
          "name": "stdout",
          "text": [
            "Requirement already satisfied: pillow in /usr/local/lib/python3.10/dist-packages (9.4.0)\n",
            "Requirement already satisfied: tensorflow in /usr/local/lib/python3.10/dist-packages (2.15.0)\n",
            "Requirement already satisfied: numpy in /usr/local/lib/python3.10/dist-packages (1.25.2)\n",
            "Requirement already satisfied: absl-py>=1.0.0 in /usr/local/lib/python3.10/dist-packages (from tensorflow) (1.4.0)\n",
            "Requirement already satisfied: astunparse>=1.6.0 in /usr/local/lib/python3.10/dist-packages (from tensorflow) (1.6.3)\n",
            "Requirement already satisfied: flatbuffers>=23.5.26 in /usr/local/lib/python3.10/dist-packages (from tensorflow) (24.3.25)\n",
            "Requirement already satisfied: gast!=0.5.0,!=0.5.1,!=0.5.2,>=0.2.1 in /usr/local/lib/python3.10/dist-packages (from tensorflow) (0.5.4)\n",
            "Requirement already satisfied: google-pasta>=0.1.1 in /usr/local/lib/python3.10/dist-packages (from tensorflow) (0.2.0)\n",
            "Requirement already satisfied: h5py>=2.9.0 in /usr/local/lib/python3.10/dist-packages (from tensorflow) (3.9.0)\n",
            "Requirement already satisfied: libclang>=13.0.0 in /usr/local/lib/python3.10/dist-packages (from tensorflow) (18.1.1)\n",
            "Requirement already satisfied: ml-dtypes~=0.2.0 in /usr/local/lib/python3.10/dist-packages (from tensorflow) (0.2.0)\n",
            "Requirement already satisfied: opt-einsum>=2.3.2 in /usr/local/lib/python3.10/dist-packages (from tensorflow) (3.3.0)\n",
            "Requirement already satisfied: packaging in /usr/local/lib/python3.10/dist-packages (from tensorflow) (24.0)\n",
            "Requirement already satisfied: protobuf!=4.21.0,!=4.21.1,!=4.21.2,!=4.21.3,!=4.21.4,!=4.21.5,<5.0.0dev,>=3.20.3 in /usr/local/lib/python3.10/dist-packages (from tensorflow) (3.20.3)\n",
            "Requirement already satisfied: setuptools in /usr/local/lib/python3.10/dist-packages (from tensorflow) (67.7.2)\n",
            "Requirement already satisfied: six>=1.12.0 in /usr/local/lib/python3.10/dist-packages (from tensorflow) (1.16.0)\n",
            "Requirement already satisfied: termcolor>=1.1.0 in /usr/local/lib/python3.10/dist-packages (from tensorflow) (2.4.0)\n",
            "Requirement already satisfied: typing-extensions>=3.6.6 in /usr/local/lib/python3.10/dist-packages (from tensorflow) (4.11.0)\n",
            "Requirement already satisfied: wrapt<1.15,>=1.11.0 in /usr/local/lib/python3.10/dist-packages (from tensorflow) (1.14.1)\n",
            "Requirement already satisfied: tensorflow-io-gcs-filesystem>=0.23.1 in /usr/local/lib/python3.10/dist-packages (from tensorflow) (0.36.0)\n",
            "Requirement already satisfied: grpcio<2.0,>=1.24.3 in /usr/local/lib/python3.10/dist-packages (from tensorflow) (1.62.1)\n",
            "Requirement already satisfied: tensorboard<2.16,>=2.15 in /usr/local/lib/python3.10/dist-packages (from tensorflow) (2.15.2)\n",
            "Requirement already satisfied: tensorflow-estimator<2.16,>=2.15.0 in /usr/local/lib/python3.10/dist-packages (from tensorflow) (2.15.0)\n",
            "Requirement already satisfied: keras<2.16,>=2.15.0 in /usr/local/lib/python3.10/dist-packages (from tensorflow) (2.15.0)\n",
            "Requirement already satisfied: wheel<1.0,>=0.23.0 in /usr/local/lib/python3.10/dist-packages (from astunparse>=1.6.0->tensorflow) (0.43.0)\n",
            "Requirement already satisfied: google-auth<3,>=1.6.3 in /usr/local/lib/python3.10/dist-packages (from tensorboard<2.16,>=2.15->tensorflow) (2.27.0)\n",
            "Requirement already satisfied: google-auth-oauthlib<2,>=0.5 in /usr/local/lib/python3.10/dist-packages (from tensorboard<2.16,>=2.15->tensorflow) (1.2.0)\n",
            "Requirement already satisfied: markdown>=2.6.8 in /usr/local/lib/python3.10/dist-packages (from tensorboard<2.16,>=2.15->tensorflow) (3.6)\n",
            "Requirement already satisfied: requests<3,>=2.21.0 in /usr/local/lib/python3.10/dist-packages (from tensorboard<2.16,>=2.15->tensorflow) (2.31.0)\n",
            "Requirement already satisfied: tensorboard-data-server<0.8.0,>=0.7.0 in /usr/local/lib/python3.10/dist-packages (from tensorboard<2.16,>=2.15->tensorflow) (0.7.2)\n",
            "Requirement already satisfied: werkzeug>=1.0.1 in /usr/local/lib/python3.10/dist-packages (from tensorboard<2.16,>=2.15->tensorflow) (3.0.2)\n",
            "Requirement already satisfied: cachetools<6.0,>=2.0.0 in /usr/local/lib/python3.10/dist-packages (from google-auth<3,>=1.6.3->tensorboard<2.16,>=2.15->tensorflow) (5.3.3)\n",
            "Requirement already satisfied: pyasn1-modules>=0.2.1 in /usr/local/lib/python3.10/dist-packages (from google-auth<3,>=1.6.3->tensorboard<2.16,>=2.15->tensorflow) (0.4.0)\n",
            "Requirement already satisfied: rsa<5,>=3.1.4 in /usr/local/lib/python3.10/dist-packages (from google-auth<3,>=1.6.3->tensorboard<2.16,>=2.15->tensorflow) (4.9)\n",
            "Requirement already satisfied: requests-oauthlib>=0.7.0 in /usr/local/lib/python3.10/dist-packages (from google-auth-oauthlib<2,>=0.5->tensorboard<2.16,>=2.15->tensorflow) (1.3.1)\n",
            "Requirement already satisfied: charset-normalizer<4,>=2 in /usr/local/lib/python3.10/dist-packages (from requests<3,>=2.21.0->tensorboard<2.16,>=2.15->tensorflow) (3.3.2)\n",
            "Requirement already satisfied: idna<4,>=2.5 in /usr/local/lib/python3.10/dist-packages (from requests<3,>=2.21.0->tensorboard<2.16,>=2.15->tensorflow) (3.7)\n",
            "Requirement already satisfied: urllib3<3,>=1.21.1 in /usr/local/lib/python3.10/dist-packages (from requests<3,>=2.21.0->tensorboard<2.16,>=2.15->tensorflow) (2.0.7)\n",
            "Requirement already satisfied: certifi>=2017.4.17 in /usr/local/lib/python3.10/dist-packages (from requests<3,>=2.21.0->tensorboard<2.16,>=2.15->tensorflow) (2024.2.2)\n",
            "Requirement already satisfied: MarkupSafe>=2.1.1 in /usr/local/lib/python3.10/dist-packages (from werkzeug>=1.0.1->tensorboard<2.16,>=2.15->tensorflow) (2.1.5)\n",
            "Requirement already satisfied: pyasn1<0.7.0,>=0.4.6 in /usr/local/lib/python3.10/dist-packages (from pyasn1-modules>=0.2.1->google-auth<3,>=1.6.3->tensorboard<2.16,>=2.15->tensorflow) (0.6.0)\n",
            "Requirement already satisfied: oauthlib>=3.0.0 in /usr/local/lib/python3.10/dist-packages (from requests-oauthlib>=0.7.0->google-auth-oauthlib<2,>=0.5->tensorboard<2.16,>=2.15->tensorflow) (3.2.2)\n"
          ]
        }
      ]
    },
    {
      "cell_type": "code",
      "execution_count": null,
      "metadata": {
        "id": "8jgJJR4AT6tK"
      },
      "outputs": [],
      "source": [
        "import requests;\n",
        "import time;\n",
        "from pathlib import Path;\n",
        "import os;\n",
        "import numpy;\n",
        "\n",
        "import tensorflow;\n",
        "from tensorflow.keras.models import Sequential;\n",
        "from tensorflow.keras.layers import Input, Conv2D, MaxPooling2D, Flatten, Dense, GlobalMaxPooling2D, Dropout, BatchNormalization;\n",
        "from tensorflow.keras.applications import ResNet50;\n",
        "\n",
        "from PIL import Image;\n",
        "from numpy import asarray;\n",
        "\n",
        "import matplotlib.pyplot as plt;\n",
        "\n",
        "from tensorflow.keras.utils import plot_model;\n",
        "from tensorflow.keras.callbacks import EarlyStopping;\n",
        "\n",
        "from tensorflow.keras.regularizers import l2, l1_l2;\n",
        "\n",
        "from google.colab import drive;"
      ]
    },
    {
      "cell_type": "code",
      "source": [
        "# Check whether the GPU is exist\n",
        "tensorflow.config.list_physical_devices('GPU')"
      ],
      "metadata": {
        "colab": {
          "base_uri": "https://localhost:8080/"
        },
        "id": "VhBlKyE_UFrY",
        "outputId": "b5f2d2fc-92f3-4381-abad-b98de667d87b"
      },
      "execution_count": null,
      "outputs": [
        {
          "output_type": "execute_result",
          "data": {
            "text/plain": [
              "[PhysicalDevice(name='/physical_device:GPU:0', device_type='GPU')]"
            ]
          },
          "metadata": {},
          "execution_count": 3
        }
      ]
    },
    {
      "cell_type": "code",
      "source": [
        "# Directory configuration\n",
        "drive.mount('/content/drive');\n",
        "\n",
        "base_path = \"/content/drive/MyDrive/Collab Dataset/Vegetable Images\";\n",
        "train_path = base_path + \"/train\";\n",
        "test_path = base_path + \"/test\";\n",
        "val_path = base_path + \"/validation\";"
      ],
      "metadata": {
        "id": "l2ISIEzZUST6",
        "colab": {
          "base_uri": "https://localhost:8080/"
        },
        "outputId": "2dd4a8fc-201e-4a55-a1f4-ee0b0e3d4a39"
      },
      "execution_count": null,
      "outputs": [
        {
          "output_type": "stream",
          "name": "stdout",
          "text": [
            "Mounted at /content/drive\n"
          ]
        }
      ]
    },
    {
      "cell_type": "markdown",
      "source": [],
      "metadata": {
        "id": "m7T2NzXLyGGE"
      }
    },
    {
      "cell_type": "markdown",
      "source": [
        "## Dataset Pre-Processing\n",
        "\n",
        "Regarding the nature of the data with structures as below:\n",
        "\n",
        "```\n",
        "Vegetable Images\n",
        "|- validation\n",
        "  |- label1\n",
        "    |- image1\n",
        "    |- imagen\n",
        "  |- labeln\n",
        "|- train\n",
        "|- test\n",
        "```\n",
        "\n",
        "Therefore, the pre-processing leveraging the folder structure is needed by applying algorithm below:\n",
        "\n",
        "```\n",
        "dataset = [feature_train = [], feature_test = [], feature_val = []]\n",
        "labels = [label_train = [], label_test = [], label_val = []]\n",
        "\n",
        "FOR idx, everything IN ENUMERATE([train, test, validation])\n",
        "  FOR folder IN everything\n",
        "    SET label = folder.name\n",
        "    \n",
        "    FOR file IN folder\n",
        "      APPEND dataset[idx], CONVERT_FILE_TO_ARRAY(file)\n",
        "      APPEND labels[idx], label\n",
        "```\n",
        "\n",
        "Basically:\n",
        "\n",
        "1. Convert the dataset from image format into float array format.\n",
        "2. Make enumeration from the label dataset since Tensorflow only can retrieve \"Tensor\". The rule below are applied:\n",
        "> 1: Brocolli\n",
        "> 2: Cabbage\n",
        "> 3: Cauliflower\n",
        "3. Save the converted dataset to the float array of `dataset_feature`.\n",
        "4. Set the folder name as its data label of the converted feature.\n",
        "5. Save the label to `dataset_label`.\n",
        "6. Perform OneHotEncoding to all dataset_label."
      ],
      "metadata": {
        "id": "sBHPNLVszxvz"
      }
    },
    {
      "cell_type": "code",
      "source": [
        "dataset_feature = [\n",
        "    [], # Train\n",
        "    [], # Test\n",
        "    []  # Val\n",
        "];\n",
        "\n",
        "dataset_label = [\n",
        "    [], # Train\n",
        "    [], # Test\n",
        "    []  # Val\n",
        "];\n",
        "\n",
        "for idx, e in enumerate([train_path, test_path, val_path]):\n",
        "  folders = Path(e).glob(\"*\");\n",
        "\n",
        "  # Navigate to folder\n",
        "  for folder in folders:\n",
        "    folder_name = os.path.basename(folder);\n",
        "    if(folder_name in [\"Broccoli\", \"Cabbage\", \"Cauliflower\"]):\n",
        "      label = 0;\n",
        "      match(folder_name):\n",
        "        case \"Broccoli\":\n",
        "          label = 0;\n",
        "\n",
        "        case \"Cabbage\":\n",
        "          label = 1;\n",
        "\n",
        "        case \"Cauliflower\":\n",
        "          label = 2;\n",
        "\n",
        "\n",
        "      # Get all files by navigating to folder\n",
        "      files = Path(folder).glob(\"*\");\n",
        "\n",
        "      # Mapping and convert features with the corresponding label\n",
        "      for file in files:\n",
        "        image = Image.open(Path(file));\n",
        "\n",
        "        # Convert feature from image to tensor\n",
        "        converted_tensor_from_image = asarray(image);\n",
        "        converted_tensor_from_image = converted_tensor_from_image / 255.0;\n",
        "\n",
        "        # Load the dataset to the list\n",
        "        dataset_feature[idx].append(converted_tensor_from_image);\n",
        "        dataset_label[idx].append(label);\n",
        "\n",
        "  # Perform One-Hot Encoding for the dataset_label\n",
        "  dataset_label[idx] = tensorflow.one_hot(dataset_label[idx], depth = 3);\n",
        "\n",
        "train_images = dataset_feature[0];\n",
        "test_images = dataset_feature[1];\n",
        "val_images = dataset_feature[2];\n",
        "train_labels = dataset_label[0];\n",
        "test_labels = dataset_label[1];\n",
        "val_labels = dataset_label[2];"
      ],
      "metadata": {
        "id": "CP4rLgllyFkt"
      },
      "execution_count": null,
      "outputs": []
    },
    {
      "cell_type": "markdown",
      "source": [
        "## Data Exploration\n",
        "\n",
        "This exploration endavour taking feature data shape to make an exact model architecture"
      ],
      "metadata": {
        "id": "8xkprlT-ddXm"
      }
    },
    {
      "cell_type": "code",
      "source": [
        "print(\"Training dataset shape: \")\n",
        "\n",
        "print(\"Total dataset, width, height\")\n",
        "\n",
        "print(len(train_images), len(train_images[0]), len(train_images[0][0]))\n",
        "print(len(train_labels), len(train_labels[0]));\n",
        "\n",
        "print(len(test_images), len(test_images[0]), len(test_images[0][0]))\n",
        "print(len(test_labels), len(test_labels[0]));\n",
        "\n",
        "print(len(val_images), len(val_images[0]), len(val_images[0][0]))\n",
        "print(len(val_labels), len(val_labels[0]));\n",
        "\n",
        "train_images = numpy.array(train_images);\n",
        "test_images = numpy.array(test_images);\n",
        "val_images = numpy.array(val_images);\n",
        "train_labels = numpy.array(train_labels);\n",
        "test_labels = numpy.array(test_labels);\n",
        "val_labels = numpy.array(val_labels);"
      ],
      "metadata": {
        "id": "5FM0kcnnd-n6",
        "colab": {
          "base_uri": "https://localhost:8080/"
        },
        "outputId": "4da8884a-7c7c-4459-80f3-0dde770d8fb1"
      },
      "execution_count": null,
      "outputs": [
        {
          "output_type": "stream",
          "name": "stdout",
          "text": [
            "Training dataset shape: \n",
            "Total dataset, width, height\n",
            "3000 224 224\n",
            "3000 3\n",
            "600 224 224\n",
            "600 3\n",
            "600 224 224\n",
            "600 3\n"
          ]
        }
      ]
    },
    {
      "cell_type": "markdown",
      "source": [
        "## Support Functions\n",
        "\n",
        "### 1. Telegram Reporter\n",
        "\n",
        "This notebook filled with helper to report whether training is started or stopped."
      ],
      "metadata": {
        "id": "XuiscaBcVo5w"
      }
    },
    {
      "cell_type": "code",
      "source": [
        "# telegram_reporter\n",
        "\"\"\"\n",
        "This function helps to send message to telegram private channel\n",
        "\"\"\"\n",
        "def telegram_reporter(message):\n",
        "    message = \"[\" + time.strftime(\"%Y-%m-%d %H:%M:%S\") +\"][CNN FROM SCRATCH] \" + message\n",
        "    requests.request(\n",
        "        method=\"POST\",\n",
        "        url=\"https://api.telegram.org/bot6307342709:AAEehfQrvZzQhk2hFlOW7C1JnE2hRQYLEgE/sendMessage?chat_id=-1001525528850&text=\" + message,\n",
        "        headers={},\n",
        "        data={}\n",
        "    );"
      ],
      "metadata": {
        "id": "QgQ-7PMKV4NV"
      },
      "execution_count": null,
      "outputs": []
    },
    {
      "cell_type": "markdown",
      "source": [
        "## Model Architecture"
      ],
      "metadata": {
        "id": "sF-LoMzbdUdE"
      }
    },
    {
      "cell_type": "code",
      "source": [
        "class ResNet_Model:\n",
        "\n",
        "  def __init__(self):\n",
        "    self.resnet = ResNet50(\n",
        "        include_top=False,\n",
        "        weights='imagenet',\n",
        "        input_shape=(224, 224, 3),\n",
        "    );\n",
        "\n",
        "    self.global_pool = GlobalMaxPooling2D();\n",
        "    self.bn1 = BatchNormalization();\n",
        "    self.dropout = Dropout(0.5);\n",
        "    self.dense = Dense(128, activation = \"relu\");\n",
        "    self.bn2 = BatchNormalization();\n",
        "    self.output = Dense(3, activation = \"softmax\");\n",
        "\n",
        "  # Early stopping after loss are not improved for some epochs\n",
        "  def _callback_early_stopping(self):\n",
        "      early_stopping_tolerance = 10;\n",
        "      return EarlyStopping(\n",
        "          monitor = \"val_loss\",\n",
        "          patience = early_stopping_tolerance,\n",
        "          restore_best_weights = True\n",
        "      );\n",
        "\n",
        "  def fitting(self):\n",
        "    model = Sequential();\n",
        "\n",
        "    model.add(self.resnet);\n",
        "    model.add(self.global_pool);\n",
        "    model.add(self.bn1);\n",
        "    model.add(self.dropout);\n",
        "    model.add(self.dense);\n",
        "    model.add(self.bn2);\n",
        "    model.add(self.output);\n",
        "\n",
        "    model.compile(optimizer = \"sgd\", loss = \"categorical_crossentropy\", metrics = [\"accuracy\"]);\n",
        "    model.summary();\n",
        "\n",
        "    plot_model(model, to_file = (\"model_architecture.png\"), show_shapes = True);\n",
        "\n",
        "\n",
        "    history = model.fit(\n",
        "        train_images,\n",
        "        train_labels,\n",
        "        epochs = 100,\n",
        "        batch_size = 64,\n",
        "        validation_data = (val_images, val_labels),\n",
        "        callbacks = [self._callback_early_stopping()]\n",
        "    );\n",
        "\n",
        "    # Plot training history\n",
        "    plt.plot(history.history['loss'], label='Training Loss');\n",
        "    plt.plot(history.history['val_loss'], label='Validation Loss');\n",
        "    plt.xlabel('Epoch');\n",
        "    plt.ylabel('Loss');\n",
        "    plt.legend();\n",
        "    plt.show();\n",
        "\n",
        "    return model;"
      ],
      "metadata": {
        "id": "VE9WOQSsrK6c"
      },
      "execution_count": null,
      "outputs": []
    },
    {
      "cell_type": "code",
      "source": [
        "model = ResNet_Model();\n",
        "model = model.fitting();\n",
        "\n",
        "test_loss, test_acc = model.evaluate(test_images, test_labels)\n",
        "print(f'Test accuracy: {test_acc}')\n",
        "\n",
        "telegram_reporter(\"Training done\");\n"
      ],
      "metadata": {
        "id": "RSI4aMvn-RSx",
        "colab": {
          "base_uri": "https://localhost:8080/",
          "height": 1000
        },
        "outputId": "96128c49-457f-4338-dd1c-33794567bd2c"
      },
      "execution_count": null,
      "outputs": [
        {
          "output_type": "stream",
          "name": "stdout",
          "text": [
            "Downloading data from https://storage.googleapis.com/tensorflow/keras-applications/resnet/resnet50_weights_tf_dim_ordering_tf_kernels_notop.h5\n",
            "94765736/94765736 [==============================] - 0s 0us/step\n",
            "Model: \"sequential\"\n",
            "_________________________________________________________________\n",
            " Layer (type)                Output Shape              Param #   \n",
            "=================================================================\n",
            " resnet50 (Functional)       (None, 7, 7, 2048)        23587712  \n",
            "                                                                 \n",
            " global_max_pooling2d (Glob  (None, 2048)              0         \n",
            " alMaxPooling2D)                                                 \n",
            "                                                                 \n",
            " batch_normalization (Batch  (None, 2048)              8192      \n",
            " Normalization)                                                  \n",
            "                                                                 \n",
            " dropout (Dropout)           (None, 2048)              0         \n",
            "                                                                 \n",
            " dense (Dense)               (None, 128)               262272    \n",
            "                                                                 \n",
            " batch_normalization_1 (Bat  (None, 128)               512       \n",
            " chNormalization)                                                \n",
            "                                                                 \n",
            " dense_1 (Dense)             (None, 3)                 387       \n",
            "                                                                 \n",
            "=================================================================\n",
            "Total params: 23859075 (91.02 MB)\n",
            "Trainable params: 23801603 (90.80 MB)\n",
            "Non-trainable params: 57472 (224.50 KB)\n",
            "_________________________________________________________________\n",
            "Epoch 1/100\n",
            "47/47 [==============================] - 56s 620ms/step - loss: 0.2132 - accuracy: 0.9290 - val_loss: 1.4142 - val_accuracy: 0.3333\n",
            "Epoch 2/100\n",
            "47/47 [==============================] - 17s 364ms/step - loss: 0.0238 - accuracy: 0.9973 - val_loss: 1.1856 - val_accuracy: 0.3333\n",
            "Epoch 3/100\n",
            "47/47 [==============================] - 17s 363ms/step - loss: 0.0132 - accuracy: 0.9993 - val_loss: 1.4453 - val_accuracy: 0.3333\n",
            "Epoch 4/100\n",
            "47/47 [==============================] - 17s 366ms/step - loss: 0.0101 - accuracy: 0.9987 - val_loss: 1.7261 - val_accuracy: 0.3333\n",
            "Epoch 5/100\n",
            "47/47 [==============================] - 17s 368ms/step - loss: 0.0065 - accuracy: 0.9993 - val_loss: 1.5488 - val_accuracy: 0.3333\n",
            "Epoch 6/100\n",
            "47/47 [==============================] - 17s 368ms/step - loss: 0.0044 - accuracy: 1.0000 - val_loss: 1.7607 - val_accuracy: 0.3333\n",
            "Epoch 7/100\n",
            "47/47 [==============================] - 17s 366ms/step - loss: 0.0039 - accuracy: 1.0000 - val_loss: 1.7870 - val_accuracy: 0.3333\n",
            "Epoch 8/100\n",
            "47/47 [==============================] - 17s 365ms/step - loss: 0.0042 - accuracy: 0.9997 - val_loss: 1.7926 - val_accuracy: 0.3333\n",
            "Epoch 9/100\n",
            "47/47 [==============================] - 17s 365ms/step - loss: 0.0047 - accuracy: 0.9997 - val_loss: 1.5384 - val_accuracy: 0.3267\n",
            "Epoch 10/100\n",
            "47/47 [==============================] - 17s 366ms/step - loss: 0.0046 - accuracy: 0.9993 - val_loss: 1.6094 - val_accuracy: 0.3217\n",
            "Epoch 11/100\n",
            "47/47 [==============================] - 17s 367ms/step - loss: 0.0026 - accuracy: 1.0000 - val_loss: 1.4299 - val_accuracy: 0.3600\n",
            "Epoch 12/100\n",
            "47/47 [==============================] - 17s 369ms/step - loss: 0.0026 - accuracy: 1.0000 - val_loss: 1.1784 - val_accuracy: 0.4583\n",
            "Epoch 13/100\n",
            "47/47 [==============================] - 17s 368ms/step - loss: 0.0023 - accuracy: 1.0000 - val_loss: 0.8932 - val_accuracy: 0.5900\n",
            "Epoch 14/100\n",
            "47/47 [==============================] - 17s 367ms/step - loss: 0.0026 - accuracy: 1.0000 - val_loss: 0.6367 - val_accuracy: 0.7250\n",
            "Epoch 15/100\n",
            "47/47 [==============================] - 17s 367ms/step - loss: 0.0019 - accuracy: 1.0000 - val_loss: 0.4406 - val_accuracy: 0.8283\n",
            "Epoch 16/100\n",
            "47/47 [==============================] - 17s 368ms/step - loss: 0.0023 - accuracy: 1.0000 - val_loss: 0.2943 - val_accuracy: 0.8983\n",
            "Epoch 17/100\n",
            "47/47 [==============================] - 17s 369ms/step - loss: 0.0018 - accuracy: 1.0000 - val_loss: 0.1914 - val_accuracy: 0.9300\n",
            "Epoch 18/100\n",
            "47/47 [==============================] - 17s 368ms/step - loss: 0.0018 - accuracy: 1.0000 - val_loss: 0.1175 - val_accuracy: 0.9683\n",
            "Epoch 19/100\n",
            "47/47 [==============================] - 17s 368ms/step - loss: 0.0016 - accuracy: 1.0000 - val_loss: 0.0739 - val_accuracy: 0.9800\n",
            "Epoch 20/100\n",
            "47/47 [==============================] - 17s 367ms/step - loss: 0.0015 - accuracy: 1.0000 - val_loss: 0.0418 - val_accuracy: 0.9917\n",
            "Epoch 21/100\n",
            "47/47 [==============================] - 17s 368ms/step - loss: 0.0015 - accuracy: 1.0000 - val_loss: 0.0197 - val_accuracy: 0.9983\n",
            "Epoch 22/100\n",
            "47/47 [==============================] - 17s 368ms/step - loss: 0.0015 - accuracy: 1.0000 - val_loss: 0.0078 - val_accuracy: 1.0000\n",
            "Epoch 23/100\n",
            "47/47 [==============================] - 17s 367ms/step - loss: 0.0017 - accuracy: 1.0000 - val_loss: 0.0035 - val_accuracy: 1.0000\n",
            "Epoch 24/100\n",
            "47/47 [==============================] - 17s 368ms/step - loss: 0.0015 - accuracy: 1.0000 - val_loss: 0.0016 - val_accuracy: 1.0000\n",
            "Epoch 25/100\n",
            "47/47 [==============================] - 17s 367ms/step - loss: 0.0015 - accuracy: 1.0000 - val_loss: 0.0011 - val_accuracy: 1.0000\n",
            "Epoch 26/100\n",
            "47/47 [==============================] - 17s 367ms/step - loss: 9.3499e-04 - accuracy: 1.0000 - val_loss: 9.4378e-04 - val_accuracy: 1.0000\n",
            "Epoch 27/100\n",
            "47/47 [==============================] - 17s 367ms/step - loss: 0.0013 - accuracy: 1.0000 - val_loss: 7.9167e-04 - val_accuracy: 1.0000\n",
            "Epoch 28/100\n",
            "47/47 [==============================] - 17s 368ms/step - loss: 0.0011 - accuracy: 1.0000 - val_loss: 7.2491e-04 - val_accuracy: 1.0000\n",
            "Epoch 29/100\n",
            "47/47 [==============================] - 17s 368ms/step - loss: 0.0011 - accuracy: 1.0000 - val_loss: 6.6064e-04 - val_accuracy: 1.0000\n",
            "Epoch 30/100\n",
            "47/47 [==============================] - 17s 369ms/step - loss: 0.0011 - accuracy: 1.0000 - val_loss: 6.5641e-04 - val_accuracy: 1.0000\n",
            "Epoch 31/100\n",
            "47/47 [==============================] - 17s 367ms/step - loss: 0.0011 - accuracy: 1.0000 - val_loss: 6.3833e-04 - val_accuracy: 1.0000\n",
            "Epoch 32/100\n",
            "47/47 [==============================] - 17s 368ms/step - loss: 0.0012 - accuracy: 0.9997 - val_loss: 5.3236e-04 - val_accuracy: 1.0000\n",
            "Epoch 33/100\n",
            "47/47 [==============================] - 17s 365ms/step - loss: 7.8736e-04 - accuracy: 1.0000 - val_loss: 5.5166e-04 - val_accuracy: 1.0000\n",
            "Epoch 34/100\n",
            "47/47 [==============================] - 17s 364ms/step - loss: 7.7008e-04 - accuracy: 1.0000 - val_loss: 5.3884e-04 - val_accuracy: 1.0000\n",
            "Epoch 35/100\n",
            "47/47 [==============================] - 17s 365ms/step - loss: 8.4380e-04 - accuracy: 1.0000 - val_loss: 5.3371e-04 - val_accuracy: 1.0000\n",
            "Epoch 36/100\n",
            "47/47 [==============================] - 17s 368ms/step - loss: 7.4617e-04 - accuracy: 1.0000 - val_loss: 5.1945e-04 - val_accuracy: 1.0000\n",
            "Epoch 37/100\n",
            "47/47 [==============================] - 17s 366ms/step - loss: 7.7760e-04 - accuracy: 1.0000 - val_loss: 5.2873e-04 - val_accuracy: 1.0000\n",
            "Epoch 38/100\n",
            "47/47 [==============================] - 17s 365ms/step - loss: 7.0380e-04 - accuracy: 1.0000 - val_loss: 5.4506e-04 - val_accuracy: 1.0000\n",
            "Epoch 39/100\n",
            "47/47 [==============================] - 17s 368ms/step - loss: 0.0011 - accuracy: 1.0000 - val_loss: 5.1724e-04 - val_accuracy: 1.0000\n",
            "Epoch 40/100\n",
            "47/47 [==============================] - 17s 366ms/step - loss: 6.3219e-04 - accuracy: 1.0000 - val_loss: 5.2721e-04 - val_accuracy: 1.0000\n",
            "Epoch 41/100\n",
            "47/47 [==============================] - 17s 367ms/step - loss: 6.4432e-04 - accuracy: 1.0000 - val_loss: 5.0889e-04 - val_accuracy: 1.0000\n",
            "Epoch 42/100\n",
            "47/47 [==============================] - 17s 368ms/step - loss: 6.4602e-04 - accuracy: 1.0000 - val_loss: 4.7400e-04 - val_accuracy: 1.0000\n",
            "Epoch 43/100\n",
            "47/47 [==============================] - 17s 366ms/step - loss: 8.2220e-04 - accuracy: 1.0000 - val_loss: 5.4028e-04 - val_accuracy: 1.0000\n",
            "Epoch 44/100\n",
            "47/47 [==============================] - 17s 365ms/step - loss: 7.2473e-04 - accuracy: 1.0000 - val_loss: 4.9115e-04 - val_accuracy: 1.0000\n",
            "Epoch 45/100\n",
            "47/47 [==============================] - 17s 368ms/step - loss: 6.5426e-04 - accuracy: 1.0000 - val_loss: 4.6494e-04 - val_accuracy: 1.0000\n",
            "Epoch 46/100\n",
            "47/47 [==============================] - 17s 368ms/step - loss: 7.8111e-04 - accuracy: 1.0000 - val_loss: 4.6371e-04 - val_accuracy: 1.0000\n",
            "Epoch 47/100\n",
            "47/47 [==============================] - 17s 365ms/step - loss: 7.5956e-04 - accuracy: 1.0000 - val_loss: 5.1987e-04 - val_accuracy: 1.0000\n",
            "Epoch 48/100\n",
            "47/47 [==============================] - 17s 367ms/step - loss: 8.7551e-04 - accuracy: 1.0000 - val_loss: 4.6957e-04 - val_accuracy: 1.0000\n",
            "Epoch 49/100\n",
            "47/47 [==============================] - 17s 366ms/step - loss: 4.8279e-04 - accuracy: 1.0000 - val_loss: 4.7142e-04 - val_accuracy: 1.0000\n",
            "Epoch 50/100\n",
            "47/47 [==============================] - 17s 368ms/step - loss: 6.4429e-04 - accuracy: 1.0000 - val_loss: 4.5974e-04 - val_accuracy: 1.0000\n",
            "Epoch 51/100\n",
            "47/47 [==============================] - 17s 369ms/step - loss: 7.6983e-04 - accuracy: 1.0000 - val_loss: 4.3054e-04 - val_accuracy: 1.0000\n",
            "Epoch 52/100\n",
            "47/47 [==============================] - 17s 368ms/step - loss: 9.6699e-04 - accuracy: 1.0000 - val_loss: 4.2543e-04 - val_accuracy: 1.0000\n",
            "Epoch 53/100\n",
            "47/47 [==============================] - 17s 366ms/step - loss: 7.9781e-04 - accuracy: 1.0000 - val_loss: 4.7499e-04 - val_accuracy: 1.0000\n",
            "Epoch 54/100\n",
            "47/47 [==============================] - 17s 366ms/step - loss: 4.5091e-04 - accuracy: 1.0000 - val_loss: 4.9174e-04 - val_accuracy: 1.0000\n",
            "Epoch 55/100\n",
            "47/47 [==============================] - 17s 366ms/step - loss: 6.4937e-04 - accuracy: 1.0000 - val_loss: 4.7258e-04 - val_accuracy: 1.0000\n",
            "Epoch 56/100\n",
            "47/47 [==============================] - 17s 366ms/step - loss: 8.7022e-04 - accuracy: 1.0000 - val_loss: 6.9149e-04 - val_accuracy: 1.0000\n",
            "Epoch 57/100\n",
            "47/47 [==============================] - 17s 366ms/step - loss: 7.4007e-04 - accuracy: 1.0000 - val_loss: 6.3641e-04 - val_accuracy: 1.0000\n",
            "Epoch 58/100\n",
            "47/47 [==============================] - 17s 365ms/step - loss: 5.6900e-04 - accuracy: 1.0000 - val_loss: 5.8130e-04 - val_accuracy: 1.0000\n",
            "Epoch 59/100\n",
            "47/47 [==============================] - 17s 365ms/step - loss: 5.0001e-04 - accuracy: 1.0000 - val_loss: 5.2329e-04 - val_accuracy: 1.0000\n",
            "Epoch 60/100\n",
            "47/47 [==============================] - 17s 365ms/step - loss: 5.5998e-04 - accuracy: 1.0000 - val_loss: 5.0654e-04 - val_accuracy: 1.0000\n",
            "Epoch 61/100\n",
            "47/47 [==============================] - 17s 366ms/step - loss: 4.5452e-04 - accuracy: 1.0000 - val_loss: 5.2002e-04 - val_accuracy: 1.0000\n",
            "Epoch 62/100\n",
            "47/47 [==============================] - 17s 369ms/step - loss: 4.0355e-04 - accuracy: 1.0000 - val_loss: 4.9134e-04 - val_accuracy: 1.0000\n"
          ]
        },
        {
          "output_type": "display_data",
          "data": {
            "text/plain": [
              "<Figure size 640x480 with 1 Axes>"
            ],
            "image/png": "[encoded data removed]"
          },
          "metadata": {}
        },
        {
          "output_type": "stream",
          "name": "stdout",
          "text": [
            "19/19 [==============================] - 2s 53ms/step - loss: 8.7548e-04 - accuracy: 1.0000\n",
            "Test accuracy: 1.0\n"
          ]
        }
      ]
    }
  ]
}