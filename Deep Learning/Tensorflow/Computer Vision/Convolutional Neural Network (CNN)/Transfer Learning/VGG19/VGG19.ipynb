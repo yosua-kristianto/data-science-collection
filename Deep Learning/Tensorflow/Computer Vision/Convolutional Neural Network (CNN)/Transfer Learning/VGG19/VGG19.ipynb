{
  "cells": [
    {
      "cell_type": "markdown",
      "metadata": {
        "id": "LRhEbaQGUzdT"
      },
      "source": [
        "# Image Classification from Scratch\n",
        "\n",
        "This book contains image classification from scratch leveraging the superiority of Convolutional Neural Network (CNN).\n",
        "\n",
        "The dataset is based on ['Vegetable Image Dataset'](https://www.kaggle.com/datasets/misrakahmed/vegetable-image-dataset).\n",
        "\n",
        "Ahmed, M. Israk & Mamun, Shahriyar & Asif, Asif. (2021). DCNN-Based Vegetable Image Classification Using Transfer Learning: A Comparative Study. 235-243. 10.1109/ICCCSP52374.2021.9465499."
      ]
    },
    {
      "cell_type": "code",
      "execution_count": 1,
      "metadata": {
        "colab": {
          "base_uri": "https://localhost:8080/"
        },
        "id": "wzWO0TdzVFHY",
        "outputId": "52debb2b-8a4b-4b06-af0c-51092ba0e0e4"
      },
      "outputs": [
        {
          "name": "stdout",
          "output_type": "stream",
          "text": [
            "Requirement already satisfied: pillow in /usr/local/lib/python3.10/dist-packages (9.4.0)\n",
            "Requirement already satisfied: tensorflow in /usr/local/lib/python3.10/dist-packages (2.15.0)\n",
            "Requirement already satisfied: numpy in /usr/local/lib/python3.10/dist-packages (1.25.2)\n",
            "Requirement already satisfied: absl-py>=1.0.0 in /usr/local/lib/python3.10/dist-packages (from tensorflow) (1.4.0)\n",
            "Requirement already satisfied: astunparse>=1.6.0 in /usr/local/lib/python3.10/dist-packages (from tensorflow) (1.6.3)\n",
            "Requirement already satisfied: flatbuffers>=23.5.26 in /usr/local/lib/python3.10/dist-packages (from tensorflow) (24.3.7)\n",
            "Requirement already satisfied: gast!=0.5.0,!=0.5.1,!=0.5.2,>=0.2.1 in /usr/local/lib/python3.10/dist-packages (from tensorflow) (0.5.4)\n",
            "Requirement already satisfied: google-pasta>=0.1.1 in /usr/local/lib/python3.10/dist-packages (from tensorflow) (0.2.0)\n",
            "Requirement already satisfied: h5py>=2.9.0 in /usr/local/lib/python3.10/dist-packages (from tensorflow) (3.9.0)\n",
            "Requirement already satisfied: libclang>=13.0.0 in /usr/local/lib/python3.10/dist-packages (from tensorflow) (16.0.6)\n",
            "Requirement already satisfied: ml-dtypes~=0.2.0 in /usr/local/lib/python3.10/dist-packages (from tensorflow) (0.2.0)\n",
            "Requirement already satisfied: opt-einsum>=2.3.2 in /usr/local/lib/python3.10/dist-packages (from tensorflow) (3.3.0)\n",
            "Requirement already satisfied: packaging in /usr/local/lib/python3.10/dist-packages (from tensorflow) (24.0)\n",
            "Requirement already satisfied: protobuf!=4.21.0,!=4.21.1,!=4.21.2,!=4.21.3,!=4.21.4,!=4.21.5,<5.0.0dev,>=3.20.3 in /usr/local/lib/python3.10/dist-packages (from tensorflow) (3.20.3)\n",
            "Requirement already satisfied: setuptools in /usr/local/lib/python3.10/dist-packages (from tensorflow) (67.7.2)\n",
            "Requirement already satisfied: six>=1.12.0 in /usr/local/lib/python3.10/dist-packages (from tensorflow) (1.16.0)\n",
            "Requirement already satisfied: termcolor>=1.1.0 in /usr/local/lib/python3.10/dist-packages (from tensorflow) (2.4.0)\n",
            "Requirement already satisfied: typing-extensions>=3.6.6 in /usr/local/lib/python3.10/dist-packages (from tensorflow) (4.10.0)\n",
            "Requirement already satisfied: wrapt<1.15,>=1.11.0 in /usr/local/lib/python3.10/dist-packages (from tensorflow) (1.14.1)\n",
            "Requirement already satisfied: tensorflow-io-gcs-filesystem>=0.23.1 in /usr/local/lib/python3.10/dist-packages (from tensorflow) (0.36.0)\n",
            "Requirement already satisfied: grpcio<2.0,>=1.24.3 in /usr/local/lib/python3.10/dist-packages (from tensorflow) (1.62.1)\n",
            "Requirement already satisfied: tensorboard<2.16,>=2.15 in /usr/local/lib/python3.10/dist-packages (from tensorflow) (2.15.2)\n",
            "Requirement already satisfied: tensorflow-estimator<2.16,>=2.15.0 in /usr/local/lib/python3.10/dist-packages (from tensorflow) (2.15.0)\n",
            "Requirement already satisfied: keras<2.16,>=2.15.0 in /usr/local/lib/python3.10/dist-packages (from tensorflow) (2.15.0)\n",
            "Requirement already satisfied: wheel<1.0,>=0.23.0 in /usr/local/lib/python3.10/dist-packages (from astunparse>=1.6.0->tensorflow) (0.43.0)\n",
            "Requirement already satisfied: google-auth<3,>=1.6.3 in /usr/local/lib/python3.10/dist-packages (from tensorboard<2.16,>=2.15->tensorflow) (2.27.0)\n",
            "Requirement already satisfied: google-auth-oauthlib<2,>=0.5 in /usr/local/lib/python3.10/dist-packages (from tensorboard<2.16,>=2.15->tensorflow) (1.2.0)\n",
            "Requirement already satisfied: markdown>=2.6.8 in /usr/local/lib/python3.10/dist-packages (from tensorboard<2.16,>=2.15->tensorflow) (3.6)\n",
            "Requirement already satisfied: requests<3,>=2.21.0 in /usr/local/lib/python3.10/dist-packages (from tensorboard<2.16,>=2.15->tensorflow) (2.31.0)\n",
            "Requirement already satisfied: tensorboard-data-server<0.8.0,>=0.7.0 in /usr/local/lib/python3.10/dist-packages (from tensorboard<2.16,>=2.15->tensorflow) (0.7.2)\n",
            "Requirement already satisfied: werkzeug>=1.0.1 in /usr/local/lib/python3.10/dist-packages (from tensorboard<2.16,>=2.15->tensorflow) (3.0.1)\n",
            "Requirement already satisfied: cachetools<6.0,>=2.0.0 in /usr/local/lib/python3.10/dist-packages (from google-auth<3,>=1.6.3->tensorboard<2.16,>=2.15->tensorflow) (5.3.3)\n",
            "Requirement already satisfied: pyasn1-modules>=0.2.1 in /usr/local/lib/python3.10/dist-packages (from google-auth<3,>=1.6.3->tensorboard<2.16,>=2.15->tensorflow) (0.3.0)\n",
            "Requirement already satisfied: rsa<5,>=3.1.4 in /usr/local/lib/python3.10/dist-packages (from google-auth<3,>=1.6.3->tensorboard<2.16,>=2.15->tensorflow) (4.9)\n",
            "Requirement already satisfied: requests-oauthlib>=0.7.0 in /usr/local/lib/python3.10/dist-packages (from google-auth-oauthlib<2,>=0.5->tensorboard<2.16,>=2.15->tensorflow) (1.4.0)\n",
            "Requirement already satisfied: charset-normalizer<4,>=2 in /usr/local/lib/python3.10/dist-packages (from requests<3,>=2.21.0->tensorboard<2.16,>=2.15->tensorflow) (3.3.2)\n",
            "Requirement already satisfied: idna<4,>=2.5 in /usr/local/lib/python3.10/dist-packages (from requests<3,>=2.21.0->tensorboard<2.16,>=2.15->tensorflow) (3.6)\n",
            "Requirement already satisfied: urllib3<3,>=1.21.1 in /usr/local/lib/python3.10/dist-packages (from requests<3,>=2.21.0->tensorboard<2.16,>=2.15->tensorflow) (2.0.7)\n",
            "Requirement already satisfied: certifi>=2017.4.17 in /usr/local/lib/python3.10/dist-packages (from requests<3,>=2.21.0->tensorboard<2.16,>=2.15->tensorflow) (2024.2.2)\n",
            "Requirement already satisfied: MarkupSafe>=2.1.1 in /usr/local/lib/python3.10/dist-packages (from werkzeug>=1.0.1->tensorboard<2.16,>=2.15->tensorflow) (2.1.5)\n",
            "Requirement already satisfied: pyasn1<0.6.0,>=0.4.6 in /usr/local/lib/python3.10/dist-packages (from pyasn1-modules>=0.2.1->google-auth<3,>=1.6.3->tensorboard<2.16,>=2.15->tensorflow) (0.5.1)\n",
            "Requirement already satisfied: oauthlib>=3.0.0 in /usr/local/lib/python3.10/dist-packages (from requests-oauthlib>=0.7.0->google-auth-oauthlib<2,>=0.5->tensorboard<2.16,>=2.15->tensorflow) (3.2.2)\n"
          ]
        }
      ],
      "source": [
        "!pip install pillow tensorflow numpy"
      ]
    },
    {
      "cell_type": "code",
      "execution_count": 14,
      "metadata": {
        "id": "8jgJJR4AT6tK"
      },
      "outputs": [],
      "source": [
        "import requests;\n",
        "import time;\n",
        "from pathlib import Path;\n",
        "import os;\n",
        "import numpy;\n",
        "\n",
        "import tensorflow;\n",
        "from tensorflow.keras.models import Sequential;\n",
        "from tensorflow.keras.layers import Input, Conv2D, MaxPooling2D, Flatten, Dense, GlobalAveragePooling2D;\n",
        "from tensorflow.keras.applications import VGG19;\n",
        "\n",
        "from PIL import Image;\n",
        "from numpy import asarray;\n",
        "\n",
        "import matplotlib.pyplot as plt;\n",
        "\n",
        "from tensorflow.keras.utils import plot_model;\n",
        "from tensorflow.keras.callbacks import EarlyStopping;\n",
        "\n",
        "from tensorflow.keras.regularizers import l2, l1_l2;\n",
        "\n",
        "from google.colab import drive;"
      ]
    },
    {
      "cell_type": "code",
      "execution_count": 5,
      "metadata": {
        "colab": {
          "base_uri": "https://localhost:8080/"
        },
        "id": "VhBlKyE_UFrY",
        "outputId": "385c528f-71c4-4733-eae1-7a2dda6e86ac"
      },
      "outputs": [
        {
          "data": {
            "text/plain": [
              "[PhysicalDevice(name='/physical_device:GPU:0', device_type='GPU')]"
            ]
          },
          "execution_count": 5,
          "metadata": {},
          "output_type": "execute_result"
        }
      ],
      "source": [
        "# Check whether the GPU is exist\n",
        "tensorflow.config.list_physical_devices('GPU')"
      ]
    },
    {
      "cell_type": "code",
      "execution_count": 6,
      "metadata": {
        "colab": {
          "base_uri": "https://localhost:8080/"
        },
        "id": "l2ISIEzZUST6",
        "outputId": "633107e6-84b4-4a9a-9889-e7eb08bfaa66"
      },
      "outputs": [
        {
          "name": "stdout",
          "output_type": "stream",
          "text": [
            "Mounted at /content/drive\n"
          ]
        }
      ],
      "source": [
        "# Directory configuration\n",
        "drive.mount('/content/drive');\n",
        "\n",
        "base_path = \"/content/drive/MyDrive/Collab Dataset/Vegetable Images\";\n",
        "train_path = base_path + \"/train\";\n",
        "test_path = base_path + \"/test\";\n",
        "val_path = base_path + \"/validation\";"
      ]
    },
    {
      "cell_type": "markdown",
      "metadata": {
        "id": "m7T2NzXLyGGE"
      },
      "source": []
    },
    {
      "cell_type": "markdown",
      "metadata": {
        "id": "sBHPNLVszxvz"
      },
      "source": [
        "## Dataset Pre-Processing\n",
        "\n",
        "Regarding the nature of the data with structures as below:\n",
        "\n",
        "```\n",
        "Vegetable Images\n",
        "|- validation\n",
        "  |- label1\n",
        "    |- image1\n",
        "    |- imagen\n",
        "  |- labeln\n",
        "|- train\n",
        "|- test\n",
        "```\n",
        "\n",
        "Therefore, the pre-processing leveraging the folder structure is needed by applying algorithm below:\n",
        "\n",
        "```\n",
        "dataset = [feature_train = [], feature_test = [], feature_val = []]\n",
        "labels = [label_train = [], label_test = [], label_val = []]\n",
        "\n",
        "FOR idx, everything IN ENUMERATE([train, test, validation])\n",
        "  FOR folder IN everything\n",
        "    SET label = folder.name\n",
        "    \n",
        "    FOR file IN folder\n",
        "      APPEND dataset[idx], CONVERT_FILE_TO_ARRAY(file)\n",
        "      APPEND labels[idx], label\n",
        "```\n",
        "\n",
        "Basically:\n",
        "\n",
        "1. Convert the dataset from image format into float array format.\n",
        "2. Make enumeration from the label dataset since Tensorflow only can retrieve \"Tensor\". The rule below are applied:\n",
        "> 1: Brocolli\n",
        "> 2: Cabbage\n",
        "> 3: Cauliflower\n",
        "3. Save the converted dataset to the float array of `dataset_feature`.\n",
        "4. Set the folder name as its data label of the converted feature.\n",
        "5. Save the label to `dataset_label`.\n",
        "6. Perform OneHotEncoding to all dataset_label."
      ]
    },
    {
      "cell_type": "code",
      "execution_count": 7,
      "metadata": {
        "id": "CP4rLgllyFkt"
      },
      "outputs": [],
      "source": [
        "dataset_feature = [\n",
        "    [], # Train\n",
        "    [], # Test\n",
        "    []  # Val\n",
        "];\n",
        "\n",
        "dataset_label = [\n",
        "    [], # Train\n",
        "    [], # Test\n",
        "    []  # Val\n",
        "];\n",
        "\n",
        "for idx, e in enumerate([train_path, test_path, val_path]):\n",
        "  folders = Path(e).glob(\"*\");\n",
        "\n",
        "  # Navigate to folder\n",
        "  for folder in folders:\n",
        "    folder_name = os.path.basename(folder);\n",
        "    if(folder_name in [\"Broccoli\", \"Cabbage\", \"Cauliflower\"]):\n",
        "      label = 0;\n",
        "      match(folder_name):\n",
        "        case \"Broccoli\":\n",
        "          label = 0;\n",
        "\n",
        "        case \"Cabbage\":\n",
        "          label = 1;\n",
        "\n",
        "        case \"Cauliflower\":\n",
        "          label = 2;\n",
        "\n",
        "\n",
        "      # Get all files by navigating to folder\n",
        "      files = Path(folder).glob(\"*\");\n",
        "\n",
        "      # Mapping and convert features with the corresponding label\n",
        "      for file in files:\n",
        "        image = Image.open(Path(file));\n",
        "\n",
        "        # Convert feature from image to tensor\n",
        "        converted_tensor_from_image = asarray(image);\n",
        "        converted_tensor_from_image = converted_tensor_from_image / 255.0;\n",
        "\n",
        "        # Load the dataset to the list\n",
        "        dataset_feature[idx].append(converted_tensor_from_image);\n",
        "        dataset_label[idx].append(label);\n",
        "\n",
        "  # Perform One-Hot Encoding for the dataset_label\n",
        "  dataset_label[idx] = tensorflow.one_hot(dataset_label[idx], depth = 3);\n",
        "\n",
        "train_images = dataset_feature[0];\n",
        "test_images = dataset_feature[1];\n",
        "val_images = dataset_feature[2];\n",
        "train_labels = dataset_label[0];\n",
        "test_labels = dataset_label[1];\n",
        "val_labels = dataset_label[2];"
      ]
    },
    {
      "cell_type": "markdown",
      "metadata": {
        "id": "8xkprlT-ddXm"
      },
      "source": [
        "## Data Exploration\n",
        "\n",
        "This exploration endavour taking feature data shape to make an exact model architecture"
      ]
    },
    {
      "cell_type": "code",
      "execution_count": 8,
      "metadata": {
        "colab": {
          "base_uri": "https://localhost:8080/"
        },
        "id": "5FM0kcnnd-n6",
        "outputId": "90fe577f-e947-46f3-dff6-04131e598a00"
      },
      "outputs": [
        {
          "name": "stdout",
          "output_type": "stream",
          "text": [
            "Training dataset shape: \n",
            "Total dataset, width, height\n",
            "3000 224 224\n",
            "3000 3\n",
            "600 224 224\n",
            "600 3\n",
            "600 224 224\n",
            "600 3\n"
          ]
        }
      ],
      "source": [
        "print(\"Training dataset shape: \")\n",
        "\n",
        "print(\"Total dataset, width, height\")\n",
        "\n",
        "print(len(train_images), len(train_images[0]), len(train_images[0][0]))\n",
        "print(len(train_labels), len(train_labels[0]));\n",
        "\n",
        "print(len(test_images), len(test_images[0]), len(test_images[0][0]))\n",
        "print(len(test_labels), len(test_labels[0]));\n",
        "\n",
        "print(len(val_images), len(val_images[0]), len(val_images[0][0]))\n",
        "print(len(val_labels), len(val_labels[0]));\n",
        "\n",
        "train_images = numpy.array(train_images);\n",
        "test_images = numpy.array(test_images);\n",
        "val_images = numpy.array(val_images);\n",
        "train_labels = numpy.array(train_labels);\n",
        "test_labels = numpy.array(test_labels);\n",
        "val_labels = numpy.array(val_labels);"
      ]
    },
    {
      "cell_type": "markdown",
      "metadata": {
        "id": "XuiscaBcVo5w"
      },
      "source": [
        "## Support Functions\n",
        "\n",
        "### 1. Telegram Reporter\n",
        "\n",
        "This notebook filled with helper to report whether training is started or stopped."
      ]
    },
    {
      "cell_type": "code",
      "execution_count": 9,
      "metadata": {
        "id": "QgQ-7PMKV4NV"
      },
      "outputs": [],
      "source": [
        "# telegram_reporter\n",
        "\"\"\"\n",
        "This function helps to send message to telegram private channel\n",
        "\"\"\"\n",
        "def telegram_reporter(message):\n",
        "    message = \"[\" + time.strftime(\"%Y-%m-%d %H:%M:%S\") +\"][CNN FROM SCRATCH] \" + message\n",
        "    requests.request(\n",
        "        method=\"POST\",\n",
        "        url=\"https://api.telegram.org/bot{YeheheBoi}/sendMessage?chat_id={YeheheBoi}&text=\" + message,\n",
        "        headers={},\n",
        "        data={}\n",
        "    );"
      ]
    },
    {
      "cell_type": "markdown",
      "metadata": {
        "id": "sF-LoMzbdUdE"
      },
      "source": [
        "## Model Architecture"
      ]
    },
    {
      "cell_type": "code",
      "execution_count": 15,
      "metadata": {
        "id": "VE9WOQSsrK6c"
      },
      "outputs": [],
      "source": [
        "class VGG_Network:\n",
        "\n",
        "  def __init__(self):\n",
        "    self.vgg = VGG19(\n",
        "        include_top=False,\n",
        "        weights='imagenet',\n",
        "        input_shape=(224, 224, 3),\n",
        "    );\n",
        "\n",
        "    self.global_pool = GlobalAveragePooling2D();\n",
        "    self.dense = Dense(64, activation = \"relu\", kernel_regularizer = l2(1e-4));\n",
        "\n",
        "    self.output = Dense(3, activation = \"softmax\");\n",
        "\n",
        "  # Early stopping after loss are not improved for some epochs\n",
        "  def _callback_early_stopping(self):\n",
        "      early_stopping_tolerance = 5;\n",
        "      return EarlyStopping(\n",
        "          monitor = \"val_loss\",\n",
        "          patience = early_stopping_tolerance,\n",
        "          restore_best_weights = True\n",
        "      );\n",
        "\n",
        "  def fitting(self):\n",
        "    model = Sequential();\n",
        "\n",
        "    model.add(self.vgg);\n",
        "    model.add(self.global_pool);\n",
        "    model.add(self.dense);\n",
        "    model.add(self.output);\n",
        "\n",
        "    model.compile(optimizer = \"sgd\", loss = \"categorical_crossentropy\", metrics = [\"accuracy\"]);\n",
        "    model.summary();\n",
        "\n",
        "    plot_model(model, to_file = (\"model_architecture.png\"), show_shapes = True);\n",
        "\n",
        "\n",
        "    history = model.fit(\n",
        "        train_images,\n",
        "        train_labels,\n",
        "        epochs = 25,\n",
        "        batch_size = 64,\n",
        "        validation_data = (val_images, val_labels),\n",
        "        callbacks = [self._callback_early_stopping()]\n",
        "    );\n",
        "\n",
        "    # Plot training history\n",
        "    plt.plot(history.history['loss'], label='Training Loss');\n",
        "    plt.plot(history.history['val_loss'], label='Validation Loss');\n",
        "    plt.xlabel('Epoch');\n",
        "    plt.ylabel('Loss');\n",
        "    plt.legend();\n",
        "    plt.show();\n",
        "\n",
        "    return model;"
      ]
    },
    {
      "cell_type": "code",
      "execution_count": 16,
      "metadata": {
        "colab": {
          "base_uri": "https://localhost:8080/",
          "height": 1000
        },
        "id": "RSI4aMvn-RSx",
        "outputId": "21fd3c5a-3b67-4140-a52e-de7e94bd6122"
      },
      "outputs": [
        {
          "name": "stdout",
          "output_type": "stream",
          "text": [
            "Model: \"sequential_1\"\n",
            "_________________________________________________________________\n",
            " Layer (type)                Output Shape              Param #   \n",
            "=================================================================\n",
            " vgg19 (Functional)          (None, 7, 7, 512)         20024384  \n",
            "                                                                 \n",
            " global_average_pooling2d (  (None, 512)               0         \n",
            " GlobalAveragePooling2D)                                         \n",
            "                                                                 \n",
            " dense_2 (Dense)             (None, 64)                32832     \n",
            "                                                                 \n",
            " dense_3 (Dense)             (None, 3)                 195       \n",
            "                                                                 \n",
            "=================================================================\n",
            "Total params: 20057411 (76.51 MB)\n",
            "Trainable params: 20057411 (76.51 MB)\n",
            "Non-trainable params: 0 (0.00 Byte)\n",
            "_________________________________________________________________\n",
            "Epoch 1/25\n",
            "47/47 [==============================] - 30s 372ms/step - loss: 0.9176 - accuracy: 0.5853 - val_loss: 1.1287 - val_accuracy: 0.3333\n",
            "Epoch 2/25\n",
            "47/47 [==============================] - 6s 132ms/step - loss: 1.0757 - accuracy: 0.4240 - val_loss: 0.8513 - val_accuracy: 0.5800\n",
            "Epoch 3/25\n",
            "47/47 [==============================] - 6s 130ms/step - loss: 1.1987 - accuracy: 0.3990 - val_loss: 0.8854 - val_accuracy: 0.9050\n",
            "Epoch 4/25\n",
            "47/47 [==============================] - 6s 131ms/step - loss: 0.9139 - accuracy: 0.6367 - val_loss: 1.1466 - val_accuracy: 0.3333\n",
            "Epoch 5/25\n",
            "47/47 [==============================] - 6s 131ms/step - loss: 1.0771 - accuracy: 0.4837 - val_loss: 1.0281 - val_accuracy: 0.4550\n",
            "Epoch 6/25\n",
            "47/47 [==============================] - 6s 132ms/step - loss: 0.9063 - accuracy: 0.6187 - val_loss: 0.4743 - val_accuracy: 0.8967\n",
            "Epoch 7/25\n",
            "47/47 [==============================] - 6s 131ms/step - loss: 1.0164 - accuracy: 0.5310 - val_loss: 1.0876 - val_accuracy: 0.3333\n",
            "Epoch 8/25\n",
            "47/47 [==============================] - 6s 132ms/step - loss: 0.8258 - accuracy: 0.6760 - val_loss: 0.2691 - val_accuracy: 0.9767\n",
            "Epoch 9/25\n",
            "47/47 [==============================] - 6s 132ms/step - loss: 0.5436 - accuracy: 0.8270 - val_loss: 0.1018 - val_accuracy: 0.9800\n",
            "Epoch 10/25\n",
            "47/47 [==============================] - 6s 131ms/step - loss: 1.0126 - accuracy: 0.5173 - val_loss: 0.8980 - val_accuracy: 0.6483\n",
            "Epoch 11/25\n",
            "47/47 [==============================] - 6s 131ms/step - loss: 0.5424 - accuracy: 0.8097 - val_loss: 0.1456 - val_accuracy: 0.9500\n",
            "Epoch 12/25\n",
            "47/47 [==============================] - 6s 133ms/step - loss: 0.2500 - accuracy: 0.9223 - val_loss: 0.0373 - val_accuracy: 0.9967\n",
            "Epoch 13/25\n",
            "47/47 [==============================] - 6s 133ms/step - loss: 0.0402 - accuracy: 0.9923 - val_loss: 0.0227 - val_accuracy: 0.9967\n",
            "Epoch 14/25\n",
            "47/47 [==============================] - 6s 132ms/step - loss: 0.0250 - accuracy: 0.9957 - val_loss: 0.0172 - val_accuracy: 0.9983\n",
            "Epoch 15/25\n",
            "47/47 [==============================] - 6s 131ms/step - loss: 0.0234 - accuracy: 0.9957 - val_loss: 2.3701 - val_accuracy: 0.6550\n",
            "Epoch 16/25\n",
            "47/47 [==============================] - 6s 131ms/step - loss: 1.2258 - accuracy: 0.3770 - val_loss: 1.1002 - val_accuracy: 0.3250\n",
            "Epoch 17/25\n",
            "47/47 [==============================] - 6s 131ms/step - loss: 0.9287 - accuracy: 0.5070 - val_loss: 0.6261 - val_accuracy: 0.7033\n",
            "Epoch 18/25\n",
            "47/47 [==============================] - 6s 131ms/step - loss: 1.0966 - accuracy: 0.4167 - val_loss: 1.1088 - val_accuracy: 0.3650\n",
            "Epoch 19/25\n",
            "47/47 [==============================] - 6s 132ms/step - loss: 1.1095 - accuracy: 0.3497 - val_loss: 1.1065 - val_accuracy: 0.3817\n"
          ]
        },
        {
          "data": {
            "image/png": "[encoded data removed]",
            "text/plain": [
              "<Figure size 640x480 with 1 Axes>"
            ]
          },
          "metadata": {},
          "output_type": "display_data"
        },
        {
          "name": "stdout",
          "output_type": "stream",
          "text": [
            "19/19 [==============================] - 2s 26ms/step - loss: 0.0217 - accuracy: 0.9983\n",
            "Test accuracy: 0.9983333349227905\n"
          ]
        }
      ],
      "source": [
        "telegram_reporter(\"Starting training\");\n",
        "\n",
        "vgg = VGG_Network();\n",
        "model = vgg.fitting();\n",
        "\n",
        "test_loss, test_acc = model.evaluate(test_images, test_labels)\n",
        "print(f'Test accuracy: {test_acc}')\n",
        "\n",
        "telegram_reporter(\"Training done\");\n"
      ]
    }
  ],
  "metadata": {
    "accelerator": "GPU",
    "colab": {
      "gpuType": "A100",
      "machine_shape": "hm",
      "provenance": []
    },
    "kernelspec": {
      "display_name": "Python 3",
      "name": "python3"
    },
    "language_info": {
      "name": "python"
    }
  },
  "nbformat": 4,
  "nbformat_minor": 0
}
